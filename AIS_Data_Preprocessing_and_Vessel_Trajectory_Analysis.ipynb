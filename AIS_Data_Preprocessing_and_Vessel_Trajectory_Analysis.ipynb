{
 "cells": [
  {
   "cell_type": "markdown",
   "metadata": {},
   "source": [
    "# **Link to the Documentation:**\n",
    "https://regal-cardinal-70d.notion.site/Report-on-AIS-Data-Preprocessing-and-Vessel-Trajectory-Analysis-Ahmed-Yehia-15298bf0dc9a8073801ae53a4103fa8b?pvs=4"
   ]
  },
  {
   "cell_type": "markdown",
   "metadata": {},
   "source": [
    "# Imports"
   ]
  },
  {
   "cell_type": "code",
   "execution_count": null,
   "metadata": {},
   "outputs": [],
   "source": [
    "%pip install tqdm\n",
    "%pip install geopandas\n",
    "%pip install folium\n",
    "%pip install pyarrow\n",
    "%pip install fastparquet\n",
    "%pip install scikit-learn\n",
    "%pip install statsmodels"
   ]
  },
  {
   "cell_type": "code",
   "execution_count": null,
   "metadata": {},
   "outputs": [],
   "source": [
    "%pip freeze"
   ]
  },
  {
   "cell_type": "code",
   "execution_count": 1,
   "metadata": {},
   "outputs": [],
   "source": [
    "import pandas as pd\n",
    "import geopandas as gpd"
   ]
  },
  {
   "cell_type": "code",
   "execution_count": null,
   "metadata": {},
   "outputs": [],
   "source": [
    "import importlib\n",
    "import data_cleaning\n",
    "import helper_utils\n",
    "import helper_utils_level_1\n",
    "import helper_utils_level_2\n",
    "import helper_utils_level_3\n",
    "import helper_utils_level_4"
   ]
  },
  {
   "cell_type": "markdown",
   "metadata": {},
   "source": [
    "# Reading Data"
   ]
  },
  {
   "cell_type": "code",
   "execution_count": null,
   "metadata": {},
   "outputs": [],
   "source": [
    "port_info = helper_utils.load_port_info()\n",
    "port_polygons = helper_utils.load_port_polygons()\n",
    "raw_data = helper_utils.load_raw_data(\"./data/raw_data/raw_data.parquet\")"
   ]
  },
  {
   "cell_type": "code",
   "execution_count": null,
   "metadata": {},
   "outputs": [],
   "source": [
    "port_info"
   ]
  },
  {
   "cell_type": "code",
   "execution_count": null,
   "metadata": {},
   "outputs": [],
   "source": [
    "port_polygons"
   ]
  },
  {
   "cell_type": "code",
   "execution_count": null,
   "metadata": {},
   "outputs": [],
   "source": [
    "raw_data"
   ]
  },
  {
   "cell_type": "code",
   "execution_count": null,
   "metadata": {},
   "outputs": [],
   "source": [
    "len(raw_data[\"anonymized_mmsi\"].unique())"
   ]
  },
  {
   "cell_type": "code",
   "execution_count": null,
   "metadata": {},
   "outputs": [],
   "source": [
    "port_gdf = gpd.GeoDataFrame(port_polygons)\n",
    "port_gdf.head()"
   ]
  },
  {
   "cell_type": "markdown",
   "metadata": {},
   "source": [
    "# Section 1: Data Preprocessing"
   ]
  },
  {
   "cell_type": "code",
   "execution_count": null,
   "metadata": {},
   "outputs": [],
   "source": [
    "importlib.reload(data_cleaning)\n",
    "raw_data = data_cleaning.remove_NA(raw_data)\n",
    "raw_data = data_cleaning.remove_invalid_lat_and_lon(raw_data)\n",
    "raw_data = data_cleaning.remove_invalid_speed(raw_data)\n",
    "raw_data = data_cleaning.convert_to_datetime(raw_data)"
   ]
  },
  {
   "cell_type": "markdown",
   "metadata": {},
   "source": [
    "# Section 2: Analysis of Vessel Trajectories "
   ]
  },
  {
   "cell_type": "markdown",
   "metadata": {},
   "source": [
    "## Level 1: Direct Observations"
   ]
  },
  {
   "cell_type": "markdown",
   "metadata": {},
   "source": [
    "### Detect Idle States:\n",
    "- After researching online, I found that the recommended **threshold for speed** falls between **0.5 and 2 knots**.\n",
    "- To allow flexibility, I implemented a function that takes this speed threshold as a **parameter**."
   ]
  },
  {
   "cell_type": "code",
   "execution_count": null,
   "metadata": {},
   "outputs": [],
   "source": [
    "importlib.reload(helper_utils_level_1)\n",
    "idle_instances_data = helper_utils_level_1.detect_idle_states(data= raw_data, speed_threshold= 1)\n",
    "idle_instances_data.head()"
   ]
  },
  {
   "cell_type": "markdown",
   "metadata": {},
   "source": [
    "### Detect When a Vessel enters a port area:\n",
    "The initial approach I implemented relied on a geo-spatial method. This approach checks whether a vessel's trajectory intersects with a given port’s polygon (i.e., whether the vessel is within the boundaries of the port)."
   ]
  },
  {
   "cell_type": "code",
   "execution_count": null,
   "metadata": {},
   "outputs": [],
   "source": [
    "importlib.reload(helper_utils_level_1)\n",
    "ais_gdf_output, visit_summary, map = helper_utils_level_1.visualize_vessel_trajectory_and_ports(\n",
    "                                                    data= raw_data\n",
    "                                                    ,port_gdf= port_polygons\n",
    "                                                    ,anonymized_mmsi=\"dfcce95e07\"\n",
    "                                                    # ,map_save_directory=\"vessel_trajectory_with_ports.html\"\n",
    "                                                    )\n",
    "map "
   ]
  },
  {
   "cell_type": "code",
   "execution_count": null,
   "metadata": {},
   "outputs": [],
   "source": [
    "visit_summary"
   ]
  },
  {
   "cell_type": "code",
   "execution_count": null,
   "metadata": {},
   "outputs": [],
   "source": [
    "importlib.reload(helper_utils)\n",
    "ais_gdf_output, visit_summary, map = helper_utils_level_1.visualize_vessel_trajectory_and_ports(\n",
    "                                                    data= raw_data\n",
    "                                                    ,port_gdf= port_polygons\n",
    "                                                    ,anonymized_mmsi=\"f7ca11eb18\"\n",
    "                                                    ,map_save_directory=\"vessel_trajectory_with_ports.html\"\n",
    "                                                    )\n",
    "map"
   ]
  },
  {
   "cell_type": "code",
   "execution_count": null,
   "metadata": {},
   "outputs": [],
   "source": [
    "visit_summary"
   ]
  },
  {
   "cell_type": "markdown",
   "metadata": {},
   "source": [
    "## Level 2: Derived Behaviours "
   ]
  },
  {
   "cell_type": "markdown",
   "metadata": {},
   "source": [
    "### Waiting Near Ports:\n",
    "\n",
    "To identify vessels that may be waiting at a port, I implemented a **waiting period detection mechanism** based on the **vessel's location and speed**. This helped to identify instances where a vessel remained stationary for a significant amount of time near a port, which could indicate they were either:\n",
    "\n",
    "- Waiting in a port queue.\n",
    "- Docked at a berth for unloading or loading operations.\n",
    "\n",
    "\n",
    "**Buffer Distance for Port Detection:**\n",
    "\n",
    "In addition to the basic location checks, I introduced a **buffer distance** around the ports to account for vessels that might remain stationary outside the exact port area. Sometimes, vessels don't enter the port's exact polygon but still wait in close proximity, so adding a buffer allows for more **accurate detection** of such vessels.\n",
    "\n",
    "- The **buffer distance** was set as **adjustable in degrees** to allow flexibility. Given that 1 degree of latitude/longitude is roughly equivalent to 111 kilometers at the Earth's surface, this adjustment allows for easy calibration depending on the geographical region or level of granularity needed.\n",
    "- The added **buffer** ensures that vessels parked slightly outside the port’s boundary but still within a reasonable distance are also captured. This provides a more comprehensive analysis of vessel behaviors near ports.\n",
    "\n",
    "\n",
    "**Logic for Waiting Periods:**\n",
    "\n",
    "- **Vessel Location**: The vessel must be near a port (inside the buffer region).\n",
    "- **Speed Condition**: The vessel must be stationary, which was determined by checking if the vessel's speed was below a specific threshold (e.g., 0.5 knots).\n",
    "- **Time Threshold**: A minimum duration (e.g., 10 minutes) is required for the vessel to be considered as **waiting** in the area."
   ]
  },
  {
   "cell_type": "code",
   "execution_count": null,
   "metadata": {},
   "outputs": [],
   "source": [
    "importlib.reload(helper_utils_level_2)\n",
    "waiting_events, map = helper_utils_level_2.detect_waiting_near_ports(\n",
    "                                    data= raw_data\n",
    "                                    ,port_gdf= port_polygons\n",
    "                                    ,anonymized_mmsi=\"f7ca11eb18\"\n",
    "                                    ,buffer_distance= 0.2 # approximately 22.22 kilometers (1 degree = 111.111KM)\n",
    "                                    ,min_wait_time= pd.Timedelta(minutes=30)\n",
    "                                    ,max_speed= 2\n",
    "                                    ,map_save_directory=\"vessel_waiting_near_prots.html\"\n",
    "                                    )\n",
    "map"
   ]
  },
  {
   "cell_type": "markdown",
   "metadata": {},
   "source": [
    "### Unserved Ports Visits:\n",
    "\n",
    "Unserved port visits refer to instances where a vessel enters a port but either does not stay long enough or engages in suspicious behavior that suggests the visit was not fully serviced or completed. To identify these, I implemented a function that evaluates various conditions to mark a visit as unserved\n",
    "\n",
    "**Logic for Identifying Unserved Visits:**\n",
    "\n",
    "- **Entry Check**: The visit must have entered the port area (i.e., the vessel’s position is within the buffer distance of the port).\n",
    "- **Duration Check**: If the duration of the visit is shorter than the specified minimum stay time (60 minutes), the visit is flagged as **unserved**.\n",
    "- **Speed Check**: If the vessel’s maximum speed during the visit exceeds the threshold (`10 knots`), this indicates the vessel may not have stayed long enough or did not engage in port activities, marking the visit as **unserved**.\n",
    "- **Speed Change Check**: If the vessel’s speed changed significantly (greater than `10 knots`), it suggests an abrupt movement, possibly indicating that the vessel left the port area quickly without completing its port services.\n",
    "\n",
    " Speed: Identifying vessels that approach ports but do not stop \n",
    "       (e.g., speed remains above a certain threshold). \n",
    "       \n",
    " Directionality: Vessels that enter the buffer zone but exit without significant directional changes \n",
    "                   or prolonged presence.\n",
    "\n",
    " Stationary Periods: Absence of significant movement (e.g., small changes in latitude/longitude) \n",
    "              while near a port.\n",
    "\n",
    " The speed changes abruptly within the visit.\n",
    " \n",
    " The vessel slows down but never stops completely (indicating potential unserved behavior)."
   ]
  },
  {
   "cell_type": "code",
   "execution_count": null,
   "metadata": {},
   "outputs": [],
   "source": [
    "importlib.reload(helper_utils_level_2)\n",
    "unserved_events, map = helper_utils_level_2.detect_unserved_visits_near_ports(\n",
    "                                    data= raw_data\n",
    "                                    ,port_gdf= port_polygons\n",
    "                                    ,anonymized_mmsi=\"f7ca11eb18\"\n",
    "                                    ,buffer_distance= 0.2 # approximately 22.22 kilometers (1 degree = 111.111KM)\n",
    "                                    ,max_speed_threshold=10 # if higher than thrsh then is unserved visit\n",
    "                                    ,min_speed_change=10 # if speed change highrt then is unserved visit\n",
    "                                    ,min_stay_time= pd.Timedelta(minutes=60)\n",
    "                                    # ,map_save_directory=\"vessel_waiting_near_prots.html\"\n",
    "                                    )\n",
    "map"
   ]
  },
  {
   "cell_type": "code",
   "execution_count": null,
   "metadata": {},
   "outputs": [],
   "source": [
    "helper_utils.plot_one_trajectory(raw_data[raw_data[\"anonymized_mmsi\"]==\"f7ca11eb18\"])"
   ]
  },
  {
   "cell_type": "markdown",
   "metadata": {},
   "source": [
    "## Level 3:  Aggregated Patterns "
   ]
  },
  {
   "cell_type": "markdown",
   "metadata": {},
   "source": [
    "### Average Duration:\n",
    "\n",
    "The average duration of vessel stays at specific locations.\n",
    "\n",
    "The function first filters the dataset to focus on the region of interest using the provided `lat`, `lon`, and `buffer_radius`. Here's the breakdown of the implemented logic:\n",
    "\n",
    "1. **Entry and Exit Identification:**\n",
    "    - For each trajectory, entry and exit points within the defined buffer region are identified.\n",
    "    - This ensures that only distinct visits to the location are analyzed.\n",
    "2. **Average Duration Calculation:**\n",
    "    - The duration for each distinct visit is computed based on the **difference between exit and entry timestamps**.\n",
    "    - Average duration is then calculated for all visits. This helps provide insights into typical vessel behavior at the location.\n",
    "3. **Special Cases Handled:**\n",
    "    - If the average duration is **zero**, it indicates no stays occurred—only trajectories passed through the area.\n",
    "    - If the result is **NaT (Not a Time)**, it means the vessel entered and exited the buffer **at the same time**, suggesting an instantaneous pass-through."
   ]
  },
  {
   "cell_type": "code",
   "execution_count": null,
   "metadata": {},
   "outputs": [],
   "source": [
    "importlib.reload(helper_utils_level_3)\n",
    "avg_duration, map = helper_utils_level_3.calculate_average_duration_and_map(\n",
    "                                            data= raw_data\n",
    "                                            ,lat=46\n",
    "                                            ,lon=-31 \n",
    "                                            ,buffer_radius=1000 #in meters\n",
    "                                            ,anonymized_mmsis=[\"dfcce95e07\",\"deb97e3414\"]\n",
    "                                            # ,map_save_directory=\"vessel_waiting_near_prots.html\"\n",
    "                                            )\n",
    "print(f\"Average Duration of Stays: {avg_duration} - if zeros that means no stays, only trajectories - \\n\\\n",
    "if NaT that means entered and exited the circle at the same time\")\n",
    "map"
   ]
  },
  {
   "cell_type": "markdown",
   "metadata": {},
   "source": [
    "###  Peak Times:\n",
    "\n",
    "Designed to analyze vessel activity across three temporal dimensions: hourly, daily, and monthly. This function provides valuable insights into traffic patterns, helping port authorities and logistics managers optimize operations.\n",
    "\n",
    "**Customization:**\n",
    "    - If specific parameters are provided (e.g., a port name or vessel MMSIs), the function tailors its analysis to those inputs.\n",
    "    - When parameters are not passed, the analysis defaults to all ports and all vessels, ensuring flexibility.\n",
    "\n",
    "**Key Observations from Charts**\n",
    "\n",
    "1. **Hourly Analysis:**\n",
    "    - Activity was **almost evenly distributed across all hours**, indicating no significant peaks or troughs in vessel operations on an hourly basis. This suggests consistent operations throughout the day.\n",
    "2. **Daily Analysis:**\n",
    "    - A **higher trend at the end of the week** was observed, possibly reflecting increased port activity during weekends or pre-weekend stocking/preparation.\n",
    "3. **Monthly Analysis:**\n",
    "    - Data availability was limited to **April and May**, indicating either seasonal traffic patterns or gaps in the dataset. This could reflect port-specific factors like seasonal trade, monsoon effects, or maintenance schedules."
   ]
  },
  {
   "cell_type": "code",
   "execution_count": null,
   "metadata": {},
   "outputs": [],
   "source": [
    "importlib.reload(helper_utils_level_3)\n",
    "peak_times = helper_utils_level_3.identify_peak_times_at_port(\n",
    "                                            data= raw_data\n",
    "                                            ,port_gdf= port_polygons\n",
    "                                            ,port_name= \"Chennai\"\n",
    "                                            ,buffer_radius=1000 #in meters\n",
    "                                            ,anonymized_mmsis=[\"dfcce95e07\"]\n",
    "                                            )\n",
    "peak_times"
   ]
  },
  {
   "cell_type": "code",
   "execution_count": null,
   "metadata": {},
   "outputs": [],
   "source": [
    "importlib.reload(helper_utils_level_3)\n",
    "peak_times_hour, peak_times_month, peak_times_day_of_week = helper_utils_level_3.identify_peak_times_at_port(\n",
    "                                            data= raw_data\n",
    "                                            ,port_gdf= port_polygons\n",
    "                                            # ,port_name= \"Chennai\" # commented to get all ports\n",
    "                                            ,buffer_radius=1000 #in meters\n",
    "                                            # ,anonymized_mmsis=[\"dfcce95e07\"] # commented to get all vessels\n",
    "                                            )"
   ]
  },
  {
   "cell_type": "markdown",
   "metadata": {},
   "source": [
    "### **Spatial Metrics**:\n",
    "    \n",
    "**Objective**\n",
    "    \n",
    "To pinpoint high-traffic areas, such as anchorage zones or congested regions, using vessel trajectory data. This helps stakeholders better understand maritime traffic patterns, improve port planning, and optimize anchorage operations.\n",
    "\n",
    "**Process**:\n",
    "- Vessel trajectories were aggregated spatially to identify regions with high densities of vessel activity.\n",
    "- Data points were mapped using **heatmap visualization**, highlighting areas of concentrated activity.\n",
    "\n",
    "*The cell output is saved at \"vessels_heatmap.html\""
   ]
  },
  {
   "cell_type": "code",
   "execution_count": null,
   "metadata": {},
   "outputs": [],
   "source": [
    "importlib.reload(helper_utils_level_3)\n",
    "helper_utils_level_3.analyze_vessel_activity(\n",
    "                                    data= raw_data\n",
    "                                    # ,anonymized_mmsis=[\"dfcce95e07\",\"deb97e3414\"]\n",
    "                                    # ,map_save_directory=\"vessels_heatmap.html\"\n",
    "                                    )"
   ]
  },
  {
   "cell_type": "markdown",
   "metadata": {},
   "source": [
    "## Level 4:  Strategic Insights "
   ]
  },
  {
   "cell_type": "markdown",
   "metadata": {},
   "source": [
    "### **Port Congestion Analysis**\n",
    "\n",
    "**Overview**\n",
    "\n",
    "The Port Congestion Analysis provides insights into the congestion levels of ports based on waiting times of vessels. By analyzing key metrics such as total waiting time and the number of distinct vessels, the analysis highlights congested ports to inform operational decisions and resource allocation.\n",
    "\n",
    "**Benefits**\n",
    "\n",
    "- **Operational Efficiency**: Identifies bottlenecks in port operations for targeted improvements.\n",
    "- **Resource Allocation**: Assists in deploying resources to congested areas.\n",
    "\n",
    "**Usage**\n",
    "\n",
    "- Monitor congestion levels across ports regularly to guide operational strategies.\n",
    "- Compare congestion metrics over time to identify trends or impacts of implemented changes."
   ]
  },
  {
   "cell_type": "code",
   "execution_count": null,
   "metadata": {},
   "outputs": [],
   "source": [
    "importlib.reload(helper_utils_level_4)\n",
    "\n",
    "# port_list = [\"Durban\", \"Nynashamn\", \"Bangkok\", \"Ambarli\"]\n",
    "port_list = port_polygons.iloc[:20,:][\"port_name\"]\n",
    "all_waiting_summary = pd.DataFrame()\n",
    "\n",
    "for port in port_list:\n",
    "    \n",
    "    waiting_summary, idle_data, m = helper_utils_level_4.analyze_waiting_times(data = raw_data, \n",
    "                                                        ports_df = port_polygons, \n",
    "                                                        port_name = port, \n",
    "                                                        # center_coords, \n",
    "                                                        offset= 1, # in degrees, 1 degree ~= 111.111KM\n",
    "                                                        speed_threshold= 1, \n",
    "                                                        waiting_time_threshold= pd.Timedelta(minutes=30), \n",
    "                                                        start_time= None, \n",
    "                                                        end_time = None, \n",
    "                                                        map_save_path = None)\n",
    "    if waiting_summary is not None:\n",
    "        waiting_summary[\"port_name\"] = port\n",
    "        all_waiting_summary = pd.concat([all_waiting_summary, waiting_summary], ignore_index=True)\n",
    "        # display(m) # Uncomment to see each ports's map \n",
    "all_waiting_summary"
   ]
  },
  {
   "cell_type": "code",
   "execution_count": null,
   "metadata": {},
   "outputs": [],
   "source": [
    "importlib.reload(helper_utils_level_4)\n",
    "\n",
    "port_summary, plot = helper_utils_level_4.analyze_port_congestion(all_waiting_summary,number_of_days_thrsh=5)\n",
    "plot"
   ]
  },
  {
   "cell_type": "code",
   "execution_count": null,
   "metadata": {},
   "outputs": [],
   "source": [
    "port_summary"
   ]
  },
  {
   "cell_type": "markdown",
   "metadata": {},
   "source": [
    "### **Time Series Forecasting for Vessel Traffic Using ARIMA**\n",
    "\n",
    "**Overview**\n",
    "\n",
    "The ARIMA (AutoRegressive Integrated Moving Average) model predicts future vessel traffic to ports based on historical time series data. This forecasting helps anticipate vessel traffic or trajectory counts, aiding in planning for port resources and avoiding bottlenecks.\n",
    "\n",
    "**Benefits**\n",
    "\n",
    "- **Proactive Planning**: Predict future vessel traffic to prepare resources accordingly.\n",
    "- **Trend Analysis**: Understand traffic patterns over time and anticipate peak periods.\n",
    "\n",
    "**Usage**\n",
    "\n",
    "- Use for port traffic forecasting to prevent congestion and optimize scheduling.\n",
    "- Combine with congestion analysis to project future port congestion levels."
   ]
  },
  {
   "cell_type": "code",
   "execution_count": null,
   "metadata": {},
   "outputs": [],
   "source": [
    "importlib.reload(helper_utils_level_4)\n",
    "\n",
    "port_name = \"Ambarli\"\n",
    "# port_name = \"Durban\"\n",
    "\n",
    "aggregated_data = helper_utils_level_4.prepare_traffic_data(raw_data= raw_data,\n",
    "                                                        port_gdf= port_polygons,\n",
    "                                                        port_name= port_name,\n",
    "                                                        center_coords = None,\n",
    "                                                        offset = 1.0,\n",
    "                                                        time_interval = \"daily\")\n",
    "\n",
    "result_df, plt = helper_utils_level_4.forecast_traffic_ARIMA(aggregated_data, \n",
    "                                                     metric='trajectory_count', \n",
    "                                                     forecast_period=7, \n",
    "                                                     granularity='daily')\n",
    "\n",
    "display(aggregated_data)\n",
    "display(plt)\n",
    "result_df"
   ]
  },
  {
   "cell_type": "code",
   "execution_count": null,
   "metadata": {},
   "outputs": [],
   "source": [
    "importlib.reload(helper_utils_level_4)\n",
    "\n",
    "port_name = \"Ambarli\"\n",
    "# port_name = \"Durban\"\n",
    "\n",
    "aggregated_data = helper_utils_level_4.prepare_traffic_data(raw_data= raw_data,\n",
    "                                                        port_gdf= port_polygons,\n",
    "                                                        port_name= port_name,\n",
    "                                                        center_coords = None,\n",
    "                                                        offset = 1.0,\n",
    "                                                        time_interval = \"daily\")\n",
    "\n",
    "result_df, plt = helper_utils_level_4.forecast_traffic_ARIMA(aggregated_data, \n",
    "                                                     metric='vessel_count', \n",
    "                                                     forecast_period=7, \n",
    "                                                     granularity='daily')\n",
    "\n",
    "display(aggregated_data)\n",
    "display(plt)\n",
    "result_df"
   ]
  },
  {
   "cell_type": "code",
   "execution_count": null,
   "metadata": {},
   "outputs": [],
   "source": [
    "importlib.reload(helper_utils_level_4)\n",
    "\n",
    "port_name = \"Ambarli\"\n",
    "# port_name = \"Durban\"\n",
    "\n",
    "aggregated_data = helper_utils_level_4.prepare_traffic_data(raw_data= raw_data,\n",
    "                                                        port_gdf= port_polygons,\n",
    "                                                        port_name= port_name,\n",
    "                                                        center_coords = None,\n",
    "                                                        offset = 1.0,\n",
    "                                                        time_interval = \"daily\")\n",
    "\n",
    "result_df, plt = helper_utils_level_4.forecast_traffic_ARIMA(aggregated_data, \n",
    "                                                     metric='vessel_count', \n",
    "                                                     forecast_period=7, \n",
    "                                                     granularity='daily')\n",
    "\n",
    "display(aggregated_data)\n",
    "display(plt)\n",
    "result_df"
   ]
  },
  {
   "cell_type": "markdown",
   "metadata": {},
   "source": [
    "## **Extra**\n"
   ]
  },
  {
   "cell_type": "markdown",
   "metadata": {},
   "source": [
    "\n",
    "### **Main Technical Challenge: Data Size and Computational Complexity**\n",
    "\n",
    "Handling large maritime datasets posed a significant technical challenge due to the intensive **spatial computations** involved in identifying vessel trajectories and interactions near ports. Below is a comprehensive breakdown of how this challenge was addressed:\n",
    "\n",
    "---\n",
    "\n",
    "### **Challenges with Original Geopandas Approach**\n",
    "\n",
    "- **Computational Overhead**: Geopandas operations, such as calculating buffers and checking point-in-polygon relationships for thousands of trajectories across multiple ports, proved highly **resource-intensive**.\n",
    "    - **Time Complexity**: Each spatial operation involved iterating over vast datasets, leading to processing times of **1-2 hours** or more.\n",
    "    - **Memory Usage**: The geospatial operations consumed substantial memory, which could lead to performance bottlenecks.\n",
    "\n",
    "---\n",
    "\n",
    "### **Optimized Solution Using Pandas**\n",
    "\n",
    "To overcome these challenges, I implemented a **bounding-box filtering approach** using Pandas. This drastically reduced computational overhead while maintaining accuracy.\n",
    "\n",
    "### **Steps Taken**\n",
    "\n",
    "1. **Define a Bounding Box**:\n",
    "    - Instead of using a **spatial buffer**, I created a **bounding box** around each port’s center coordinates (latitude and longitude).\n",
    "    - The bounding box was defined by an offset of ±1 degree, corresponding to a geographical range of ~111 km (1 degree ≈ 111 km).\n",
    "2. **Filter Data Using Pandas**:\n",
    "    - Applied **simple column filtering** to include only records within the bounding box.\n",
    "    - Eliminated the need for expensive point-in-polygon checks."
   ]
  },
  {
   "cell_type": "code",
   "execution_count": null,
   "metadata": {},
   "outputs": [],
   "source": [
    "importlib.reload(helper_utils)\n",
    "summary, map = helper_utils.analyze_trajectories_in_region(\n",
    "                                                    data= raw_data\n",
    "                                                    ,ports_df= port_polygons \n",
    "                                                    # ,center_coords= (-31,46)\n",
    "                                                    ,port_name=\"Chennai\"\n",
    "                                                    ,offset=1 # 1 degree ~111.11KM * 2\n",
    "                                                    ,start_time=None\n",
    "                                                    ,end_time=None\n",
    "                                                    )\n",
    "print(summary)\n",
    "map"
   ]
  },
  {
   "cell_type": "code",
   "execution_count": null,
   "metadata": {},
   "outputs": [],
   "source": [
    "importlib.reload(helper_utils)\n",
    "summary, map = helper_utils.analyze_trajectories_in_region(\n",
    "                                                    data= raw_data\n",
    "                                                    ,ports_df= port_polygons \n",
    "                                                    # ,center_coords= (-31,46)\n",
    "                                                    ,port_name=\"Beira\"\n",
    "                                                    ,offset=1 # 1 degree ~111.11KM * 2\n",
    "                                                    # ,start_time=None\n",
    "                                                    # ,end_time=None\n",
    "                                                    )\n",
    "print(summary)\n",
    "map"
   ]
  },
  {
   "cell_type": "code",
   "execution_count": null,
   "metadata": {},
   "outputs": [],
   "source": []
  }
 ],
 "metadata": {
  "kernelspec": {
   "display_name": "Python 3",
   "language": "python",
   "name": "python3"
  },
  "language_info": {
   "codemirror_mode": {
    "name": "ipython",
    "version": 3
   },
   "file_extension": ".py",
   "mimetype": "text/x-python",
   "name": "python",
   "nbconvert_exporter": "python",
   "pygments_lexer": "ipython3",
   "version": "3.12.8"
  }
 },
 "nbformat": 4,
 "nbformat_minor": 2
}
